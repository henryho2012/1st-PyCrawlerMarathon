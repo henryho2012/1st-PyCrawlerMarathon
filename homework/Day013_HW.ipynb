{
 "cells": [
  {
   "cell_type": "markdown",
   "metadata": {},
   "source": [
    "# PTT 網路爬蟲實作練習\n",
    "\n",
    "\n",
    "* 能夠利用 Request + BeatifulSour 撰寫爬蟲，並存放到合適的資料結構\n"
   ]
  },
  {
   "cell_type": "markdown",
   "metadata": {},
   "source": [
    "## 作業目標\n",
    "\n",
    "根據範例 ，完成以下問題：\n",
    "\n",
    "* ① 印出最新文章的「作者」「標題」「時間」\n",
    "* ② 印出第一頁所有文章的「作者」「標題」「時間」\n"
   ]
  },
  {
   "cell_type": "markdown",
   "metadata": {},
   "source": [
    "### ① 印出最新文章的「作者」「標題」「時間」"
   ]
  },
  {
   "cell_type": "code",
   "execution_count": 1,
   "metadata": {},
   "outputs": [
    {
     "name": "stdout",
     "output_type": "stream",
     "text": [
      "作者: Rambo 標題: [情報] ★今日排名(2019.12.09)★ 時間: 12/09\n"
     ]
    }
   ],
   "source": [
    "import requests\n",
    "from bs4 import BeautifulSoup\n",
    "\n",
    "url = 'https://www.ptt.cc/bbs/NBA/index.html'\n",
    "r = requests.get(url)\n",
    "\n",
    "soup = BeautifulSoup(r.text, \"html5lib\")\n",
    "\n",
    "for d in soup.find_all(class_=\"r-ent\"):\n",
    "    print('作者:', d.find(class_=\"author\").text, \n",
    "          '標題:', d.find(class_=\"title\").text.replace('\\t', '').replace('\\n', ''), \n",
    "          '時間:', d.find(class_=\"date\").text)\n",
    "    break\n"
   ]
  },
  {
   "cell_type": "markdown",
   "metadata": {},
   "source": [
    "### ② 印出第一頁所有文章的「作者」「標題」「時間」"
   ]
  },
  {
   "cell_type": "code",
   "execution_count": 2,
   "metadata": {},
   "outputs": [
    {
     "name": "stdout",
     "output_type": "stream",
     "text": [
      "作者: Rambo 標題: [情報] ★今日排名(2019.12.09)★ 時間: 12/09\n",
      "作者: hhll5566 標題: [討論] 快艇替補這麼猛是在哈羅？ 時間: 12/09\n",
      "作者: maxknife 標題: [討論] 為啥哈登50跟ad50分討論度差那麼多 時間: 12/09\n",
      "作者: takizawahide 標題: [討論] 太空鹿是不是飛天了  保底東冠? 時間: 12/09\n",
      "作者: GhostFather 標題: [花邊] 林書豪罰球絕殺有爭議 最後0.6秒遭誤判沒 時間: 12/09\n",
      "作者: icpolonaise 標題: Re: [討論] 歷史上的今天 CP3被交易到湖人被聯盟否決 時間: 12/09\n",
      "作者: Vedan 標題: [公告] 板規v6.6 時間:  5/24\n",
      "作者: Vedan 標題: [公告] 樂透取消及未來不再開啟樂透 時間:  6/24\n",
      "作者: qazwsx879345 標題: [公告] 版主上任相關事項  時間: 10/25\n",
      "作者: JerroLi 標題: [情報] SEASON Schedule 賽程 December 19–20 時間: 11/29\n",
      "作者: dragon803 標題: [公告]是否禁止basketball top 5文章投票開始  時間: 12/08\n"
     ]
    }
   ],
   "source": [
    "for d in soup.find_all(class_=\"r-ent\"):\n",
    "    print('作者:', d.find(class_=\"author\").text, \n",
    "          '標題:', d.find(class_=\"title\").text.replace('\\t', '').replace('\\n', ''), \n",
    "          '時間:', d.find(class_=\"date\").text)"
   ]
  },
  {
   "cell_type": "markdown",
   "metadata": {},
   "source": [
    "### ③ 試著爬爬看其他版的文章"
   ]
  },
  {
   "cell_type": "code",
   "execution_count": 3,
   "metadata": {},
   "outputs": [
    {
     "name": "stdout",
     "output_type": "stream",
     "text": [
      "作者: aks963214785 標題: [問題] 這個路口是否可以持續通行？ 時間: 12/09\n",
      "作者: - 標題: (本文已被刪除) [MotleyCrue] 時間: 12/09\n",
      "作者: a9202507 標題: Re: [新聞] 全球最熱賣的電動汽車來了 LEAF每輛下殺 時間: 12/09\n",
      "作者: fenglingling 標題: [問題] 障礙物警示或煞停 時間: 12/09\n",
      "作者: airforce1101 標題: Re: [討論] RAV4的顛簸程度為何被CHR海放好幾條街? 時間: 12/09\n",
      "作者: midsummer072 標題: [討論] 這是真的S2000嗎? 時間: 12/09\n",
      "作者: yamatobar 標題: [新聞] 涉財報造假 日產汽車或面臨近7億罰款 時間: 12/09\n",
      "作者: AsGod 標題: [菜單] Mazda 6 wagon 2.5 進化旗艦型  時間: 12/09\n",
      "作者: jason0330 標題: [分享] 日本試駕 - Toyota Alphard 2.5X 時間: 12/09\n",
      "作者: kay42 標題: [問題] 問一個鋁圈品牌 時間: 12/09\n",
      "作者: z85917131 標題: [情報] 以黑為名《Mazda CX-5 Kuro Edition》法 時間: 12/09\n",
      "作者: clazziquai 標題: [新聞] 全新Toyota Granvia 6人座旗艦版試駕 時間: 12/09\n",
      "作者: z85917131 標題: [情報] 2020台北車展 Luxgen URX確定12/16發表   時間: 12/09\n",
      "作者: numbtch236 標題: Re: [討論] 飛度曾幾何時不再是小車首選？ 時間: 12/09\n",
      "作者: aitt 標題: [討論] 當年的cefiro 3.5有多猛? 時間: 12/09\n",
      "作者: FeatheredElf 標題: [揪團]急徵人團報板新駕訓班，缺一位優2000 時間: 12/09\n",
      "作者: inmore0714 標題: [菜單] Skoda Octavia combi 1.0 時間: 12/09\n",
      "作者: kuang46 標題: [菜單] 2019 現代 Elantra 旗艦(已下單) 時間: 12/09\n",
      "作者: MunezSu 標題: [公告] Car板板規 2019/08/15 板規修正 時間:  1/09\n",
      "作者: z85917131 標題: Re: [整理] 百萬左右熱門新車主被動安全配備(SRS/ESP/VSC..)整理 時間:  4/09\n",
      "作者: MunezSu 標題: [活動連署] saitou68201上任第二位版主 時間: 10/01\n",
      "作者: aboxxx 標題: [活動]照常舉行12/07南部車聚_文衡殿烤肉火鍋會 時間: 10/29\n"
     ]
    }
   ],
   "source": [
    "url = 'https://www.ptt.cc/bbs/car/index.html'\n",
    "r = requests.get(url)\n",
    "\n",
    "soup = BeautifulSoup(r.text, \"html5lib\")\n",
    "\n",
    "for d in soup.find_all(class_=\"r-ent\"):\n",
    "    print('作者:', d.find(class_=\"author\").text, \n",
    "          '標題:', d.find(class_=\"title\").text.replace('\\t', '').replace('\\n', ''), \n",
    "          '時間:', d.find(class_=\"date\").text)\n"
   ]
  },
  {
   "cell_type": "code",
   "execution_count": null,
   "metadata": {},
   "outputs": [],
   "source": []
  }
 ],
 "metadata": {
  "kernelspec": {
   "display_name": "Python 3",
   "language": "python",
   "name": "python3"
  },
  "language_info": {
   "codemirror_mode": {
    "name": "ipython",
    "version": 3
   },
   "file_extension": ".py",
   "mimetype": "text/x-python",
   "name": "python",
   "nbconvert_exporter": "python",
   "pygments_lexer": "ipython3",
   "version": "3.7.3"
  }
 },
 "nbformat": 4,
 "nbformat_minor": 2
}

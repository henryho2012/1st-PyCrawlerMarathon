{
 "cells": [
  {
   "cell_type": "markdown",
   "metadata": {},
   "source": [
    "# Python 下載XML檔案與解析\n",
    "\n",
    "\n",
    "* 了解 xml 檔案格式與內容\n",
    "* 能夠利用套件存取 xml 格式的檔案\n"
   ]
  },
  {
   "cell_type": "markdown",
   "metadata": {},
   "source": [
    "## 作業目標\n",
    "\n",
    "* 比較一下範例檔案中的「File I/O」與「xmltodict」讀出來的內容有什麼差異\n",
    "\n",
    "* 根據範例檔案的結果：\n",
    "    1. 請問高雄市有多少地區有溫度資料？\n",
    "    2. 請取出每一個地區所記錄的第一個時間點跟溫度\n",
    "    3. 請取出第一個地區所記錄的每一個時間點跟溫度"
   ]
  },
  {
   "cell_type": "markdown",
   "metadata": {},
   "source": [
    "### 比較一下範例檔案中的「File I/O」與「xmltodict」讀出來的內容有什麼差異\n"
   ]
  },
  {
   "cell_type": "markdown",
   "metadata": {},
   "source": [
    ">File I/O 讀出來就是原始檔案內容\n",
    "\n",
    ">xmltodict 讀出來已轉為 Dict 格式，容易在 Python 中操作"
   ]
  },
  {
   "cell_type": "markdown",
   "metadata": {},
   "source": [
    "### 根據範例檔案的結果：\n",
    "\n",
    "1. 請問高雄市有多少地區有溫度資料？\n",
    "2. 請取出每一個地區所記錄的第一個時間點跟溫度\n",
    "3. 請取出第一個地區所記錄的每一個時間點跟溫度"
   ]
  },
  {
   "cell_type": "code",
   "execution_count": 1,
   "metadata": {},
   "outputs": [],
   "source": [
    "# 下載檔案\n",
    "import urllib.request\n",
    "import zipfile\n",
    "\n",
    "res = \"http://opendata.cwb.gov.tw/govdownload?dataid=F-D0047-093&authorizationkey=rdec-key-123-45678-011121314\"\n",
    "urllib.request.urlretrieve(res, \"./data/example.zip\")\n",
    "f = zipfile.ZipFile('./data/example.zip')\n",
    "f.extractall('./data')"
   ]
  },
  {
   "cell_type": "code",
   "execution_count": 2,
   "metadata": {},
   "outputs": [],
   "source": [
    "# 讀檔案\n",
    "fh = open(\"./data/64_72hr_CH.xml\", \"r\", encoding='utf-8')\n",
    "xml = fh.read()\n",
    "fh.close()"
   ]
  },
  {
   "cell_type": "code",
   "execution_count": 3,
   "metadata": {},
   "outputs": [],
   "source": [
    "# 解析檔案內容\n",
    "import xmltodict\n",
    "d = dict(xmltodict.parse(xml))"
   ]
  },
  {
   "cell_type": "code",
   "execution_count": 4,
   "metadata": {},
   "outputs": [
    {
     "name": "stdout",
     "output_type": "stream",
     "text": [
      "38\n"
     ]
    }
   ],
   "source": [
    "# 1. 請問高雄市有多少地區有溫度資料？\n",
    "\n",
    "#datasetDescription = d['cwbopendata']['dataset']['locations']['location']['locationName']\n",
    "Area = d['cwbopendata']['dataset']['locations']['location']\n",
    "print(len(Area))\n"
   ]
  },
  {
   "cell_type": "code",
   "execution_count": 5,
   "metadata": {},
   "outputs": [
    {
     "name": "stdout",
     "output_type": "stream",
     "text": [
      "鹽埕區 2019-11-22T00:00:00+08:00 23\n",
      "鼓山區 2019-11-22T00:00:00+08:00 23\n",
      "左營區 2019-11-22T00:00:00+08:00 22\n",
      "楠梓區 2019-11-22T00:00:00+08:00 22\n",
      "三民區 2019-11-22T00:00:00+08:00 23\n",
      "新興區 2019-11-22T00:00:00+08:00 23\n",
      "前金區 2019-11-22T00:00:00+08:00 23\n",
      "苓雅區 2019-11-22T00:00:00+08:00 23\n",
      "前鎮區 2019-11-22T00:00:00+08:00 24\n",
      "旗津區 2019-11-22T00:00:00+08:00 23\n",
      "小港區 2019-11-22T00:00:00+08:00 23\n",
      "鳳山區 2019-11-22T00:00:00+08:00 22\n",
      "林園區 2019-11-22T00:00:00+08:00 23\n",
      "大寮區 2019-11-22T00:00:00+08:00 23\n",
      "大樹區 2019-11-22T00:00:00+08:00 22\n",
      "大社區 2019-11-22T00:00:00+08:00 22\n",
      "仁武區 2019-11-22T00:00:00+08:00 22\n",
      "鳥松區 2019-11-22T00:00:00+08:00 22\n",
      "岡山區 2019-11-22T00:00:00+08:00 22\n",
      "橋頭區 2019-11-22T00:00:00+08:00 22\n",
      "燕巢區 2019-11-22T00:00:00+08:00 22\n",
      "田寮區 2019-11-22T00:00:00+08:00 21\n",
      "阿蓮區 2019-11-22T00:00:00+08:00 21\n",
      "路竹區 2019-11-22T00:00:00+08:00 22\n",
      "湖內區 2019-11-22T00:00:00+08:00 22\n",
      "茄萣區 2019-11-22T00:00:00+08:00 22\n",
      "永安區 2019-11-22T00:00:00+08:00 21\n",
      "彌陀區 2019-11-22T00:00:00+08:00 21\n",
      "梓官區 2019-11-22T00:00:00+08:00 22\n",
      "旗山區 2019-11-22T00:00:00+08:00 21\n",
      "美濃區 2019-11-22T00:00:00+08:00 22\n",
      "六龜區 2019-11-22T00:00:00+08:00 21\n",
      "甲仙區 2019-11-22T00:00:00+08:00 20\n",
      "杉林區 2019-11-22T00:00:00+08:00 21\n",
      "內門區 2019-11-22T00:00:00+08:00 20\n",
      "茂林區 2019-11-22T00:00:00+08:00 20\n",
      "桃源區 2019-11-22T00:00:00+08:00 19\n",
      "那瑪夏區 2019-11-22T00:00:00+08:00 18\n"
     ]
    }
   ],
   "source": [
    "# 2. 請取出每一個地區所記錄的第一個時間點跟溫度\n",
    "\n",
    "for i in Area:\n",
    "    for j in i['weatherElement']:\n",
    "        if j['description'] == '溫度':\n",
    "            print(\"%s %s %s\"%(i[\"locationName\"],j[\"time\"][0][\"dataTime\"],j[\"time\"][0][\"elementValue\"][\"value\"]))"
   ]
  },
  {
   "cell_type": "code",
   "execution_count": 6,
   "metadata": {},
   "outputs": [
    {
     "name": "stdout",
     "output_type": "stream",
     "text": [
      "2019-11-22T00:00:00+08:00 23\n",
      "2019-11-22T03:00:00+08:00 22\n",
      "2019-11-22T06:00:00+08:00 22\n",
      "2019-11-22T09:00:00+08:00 24\n",
      "2019-11-22T12:00:00+08:00 28\n",
      "2019-11-22T15:00:00+08:00 28\n",
      "2019-11-22T18:00:00+08:00 26\n",
      "2019-11-22T21:00:00+08:00 25\n",
      "2019-11-23T00:00:00+08:00 24\n",
      "2019-11-23T03:00:00+08:00 23\n",
      "2019-11-23T06:00:00+08:00 23\n",
      "2019-11-23T09:00:00+08:00 25\n",
      "2019-11-23T12:00:00+08:00 28\n",
      "2019-11-23T15:00:00+08:00 28\n",
      "2019-11-23T18:00:00+08:00 26\n",
      "2019-11-23T21:00:00+08:00 25\n",
      "2019-11-24T00:00:00+08:00 24\n",
      "2019-11-24T03:00:00+08:00 23\n",
      "2019-11-24T06:00:00+08:00 23\n",
      "2019-11-24T09:00:00+08:00 25\n",
      "2019-11-24T12:00:00+08:00 28\n",
      "2019-11-24T15:00:00+08:00 28\n",
      "2019-11-24T18:00:00+08:00 26\n",
      "2019-11-24T21:00:00+08:00 25\n"
     ]
    }
   ],
   "source": [
    "# 3. 請取出第一個地區所記錄的每一個時間點跟溫度\n",
    "\n",
    "for i in Area[0]['weatherElement']:\n",
    "    if i['description'] == '溫度':\n",
    "        for j in i[\"time\"]:\n",
    "            print(j[\"dataTime\"],j[\"elementValue\"][\"value\"])"
   ]
  },
  {
   "cell_type": "code",
   "execution_count": null,
   "metadata": {},
   "outputs": [],
   "source": []
  }
 ],
 "metadata": {
  "kernelspec": {
   "display_name": "Python 3",
   "language": "python",
   "name": "python3"
  },
  "language_info": {
   "codemirror_mode": {
    "name": "ipython",
    "version": 3
   },
   "file_extension": ".py",
   "mimetype": "text/x-python",
   "name": "python",
   "nbconvert_exporter": "python",
   "pygments_lexer": "ipython3",
   "version": "3.7.3"
  }
 },
 "nbformat": 4,
 "nbformat_minor": 2
}
